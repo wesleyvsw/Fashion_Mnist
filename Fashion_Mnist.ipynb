{
  "nbformat": 4,
  "nbformat_minor": 0,
  "metadata": {
    "colab": {
      "name": "Fashion_Mnist.ipynb",
      "provenance": [],
      "authorship_tag": "ABX9TyNAeGGITf9QIZTuxY+uv/SA"
    },
    "kernelspec": {
      "name": "python3",
      "display_name": "Python 3"
    }
  },
  "cells": [
    {
      "cell_type": "code",
      "metadata": {
        "id": "wQuShowxCYmg",
        "colab_type": "code",
        "colab": {}
      },
      "source": [
        "#importando o tensor flow\n",
        "import tensorflow as tf\n",
        "#importando o keras\n",
        "from tensorflow import keras"
      ],
      "execution_count": 1,
      "outputs": []
    },
    {
      "cell_type": "code",
      "metadata": {
        "id": "pcgFO2AWCuza",
        "colab_type": "code",
        "colab": {
          "base_uri": "https://localhost:8080/",
          "height": 153
        },
        "outputId": "90fc38e6-45a2-4734-88d2-3fbe65f2623a"
      },
      "source": [
        "#importando o dataset fashion mnist\n",
        "fashion_mnist = keras.datasets.fashion_mnist\n",
        "#separando os dados de treino e teste\n",
        "(X_treinoc,y_treinoc),(X_teste,y_teste)=fashion_mnist.load_data()"
      ],
      "execution_count": 2,
      "outputs": [
        {
          "output_type": "stream",
          "text": [
            "Downloading data from https://storage.googleapis.com/tensorflow/tf-keras-datasets/train-labels-idx1-ubyte.gz\n",
            "32768/29515 [=================================] - 0s 0us/step\n",
            "Downloading data from https://storage.googleapis.com/tensorflow/tf-keras-datasets/train-images-idx3-ubyte.gz\n",
            "26427392/26421880 [==============================] - 0s 0us/step\n",
            "Downloading data from https://storage.googleapis.com/tensorflow/tf-keras-datasets/t10k-labels-idx1-ubyte.gz\n",
            "8192/5148 [===============================================] - 0s 0us/step\n",
            "Downloading data from https://storage.googleapis.com/tensorflow/tf-keras-datasets/t10k-images-idx3-ubyte.gz\n",
            "4423680/4422102 [==============================] - 0s 0us/step\n"
          ],
          "name": "stdout"
        }
      ]
    },
    {
      "cell_type": "code",
      "metadata": {
        "id": "WO83ZiTUDc2h",
        "colab_type": "code",
        "colab": {
          "base_uri": "https://localhost:8080/",
          "height": 34
        },
        "outputId": "b78d163b-4bc0-4062-bb04-d72669d7dada"
      },
      "source": [
        "#criando o conjunto de validação dentro do dataset de treino\n",
        "X_valid,X_train = X_treinoc[:5000]/255.0, X_treinoc[5000:]/255.0\n",
        "y_valid,y_train = y_treinoc[:5000], y_treinoc[5000:]\n",
        "#Dando nome as classes/labels\n",
        "n_classes = [\"T-shirt\", \"calça\",\"casaquinho\",\"vestido\",\"casaco\",\"sandalia\",\"camisa\",\"tenis\",\"mochila\",\"bota\"]\n",
        "n_classes[y_train[0]]"
      ],
      "execution_count": 3,
      "outputs": [
        {
          "output_type": "execute_result",
          "data": {
            "text/plain": [
              "'casaco'"
            ]
          },
          "metadata": {
            "tags": []
          },
          "execution_count": 3
        }
      ]
    },
    {
      "cell_type": "code",
      "metadata": {
        "id": "mjjfSAy-FpaL",
        "colab_type": "code",
        "colab": {}
      },
      "source": [
        "#criando o primeiro MultiLayer Perceptron\n",
        "modelo = keras.models.Sequential()\n",
        "modelo.add(keras.layers.Flatten(input_shape=[28,28]))\n",
        "modelo.add(keras.layers.Dense(300,activation=\"relu\"))\n",
        "modelo.add(keras.layers.Dense(100,activation=\"relu\"))\n",
        "modelo.add(keras.layers.Dense(10,activation=\"softmax\"))\n"
      ],
      "execution_count": 4,
      "outputs": []
    },
    {
      "cell_type": "code",
      "metadata": {
        "id": "EoAOs2UXJRXQ",
        "colab_type": "code",
        "colab": {
          "base_uri": "https://localhost:8080/",
          "height": 289
        },
        "outputId": "80bc5cf6-8c6e-4cbf-db48-6de3d563f189"
      },
      "source": [
        "modelo.summary()"
      ],
      "execution_count": 5,
      "outputs": [
        {
          "output_type": "stream",
          "text": [
            "Model: \"sequential\"\n",
            "_________________________________________________________________\n",
            "Layer (type)                 Output Shape              Param #   \n",
            "=================================================================\n",
            "flatten (Flatten)            (None, 784)               0         \n",
            "_________________________________________________________________\n",
            "dense (Dense)                (None, 300)               235500    \n",
            "_________________________________________________________________\n",
            "dense_1 (Dense)              (None, 100)               30100     \n",
            "_________________________________________________________________\n",
            "dense_2 (Dense)              (None, 10)                1010      \n",
            "=================================================================\n",
            "Total params: 266,610\n",
            "Trainable params: 266,610\n",
            "Non-trainable params: 0\n",
            "_________________________________________________________________\n"
          ],
          "name": "stdout"
        }
      ]
    },
    {
      "cell_type": "code",
      "metadata": {
        "id": "aHy8eJ3KJEPa",
        "colab_type": "code",
        "colab": {
          "base_uri": "https://localhost:8080/",
          "height": 466
        },
        "outputId": "1d06d361-21be-4e6c-9bd6-3d1b5090627e"
      },
      "source": [
        "keras.utils.plot_model(modelo)"
      ],
      "execution_count": 6,
      "outputs": [
        {
          "output_type": "execute_result",
          "data": {
            "image/png": "[encoded data removed]",
            "text/plain": [
              "<IPython.core.display.Image object>"
            ]
          },
          "metadata": {
            "tags": []
          },
          "execution_count": 6
        }
      ]
    },
    {
      "cell_type": "code",
      "metadata": {
        "id": "moUGxPKFRbap",
        "colab_type": "code",
        "colab": {}
      },
      "source": [
        "#alterando o nome da camada\n",
        "hidden1= modelo.layers[1]"
      ],
      "execution_count": 7,
      "outputs": []
    },
    {
      "cell_type": "code",
      "metadata": {
        "id": "z4xzmqHXRs07",
        "colab_type": "code",
        "colab": {}
      },
      "source": [
        ""
      ],
      "execution_count": 7,
      "outputs": []
    },
    {
      "cell_type": "code",
      "metadata": {
        "id": "Qs1ydxTTRxcN",
        "colab_type": "code",
        "colab": {
          "base_uri": "https://localhost:8080/",
          "height": 238
        },
        "outputId": "ca864e00-376c-4b71-ce0c-97ca19a2313e"
      },
      "source": [
        "#Todos os parâmetros podem ser alterados utilizando a função get_weights\n",
        "pesos,bias = hidden1.get_weights()\n",
        "pesos"
      ],
      "execution_count": 8,
      "outputs": [
        {
          "output_type": "execute_result",
          "data": {
            "text/plain": [
              "array([[ 0.0107512 ,  0.00550177,  0.04570071, ...,  0.00478598,\n",
              "         0.05445755, -0.02773837],\n",
              "       [-0.06872889,  0.02861621, -0.00482273, ...,  0.03891474,\n",
              "        -0.05264685,  0.04404578],\n",
              "       [ 0.05397767, -0.07077655,  0.03704836, ...,  0.07424971,\n",
              "         0.04289948, -0.02202367],\n",
              "       ...,\n",
              "       [-0.02831971, -0.03771845,  0.05537046, ...,  0.06267273,\n",
              "         0.00321293, -0.03002439],\n",
              "       [ 0.01720911, -0.06818967,  0.03392654, ..., -0.00356325,\n",
              "        -0.03121128, -0.02866368],\n",
              "       [ 0.01898231, -0.03346691, -0.0712564 , ...,  0.02083529,\n",
              "         0.00703962, -0.06157034]], dtype=float32)"
            ]
          },
          "metadata": {
            "tags": []
          },
          "execution_count": 8
        }
      ]
    },
    {
      "cell_type": "code",
      "metadata": {
        "id": "sCZDcE9OSRJV",
        "colab_type": "code",
        "colab": {}
      },
      "source": [
        "#Compilando\n",
        "modelo.compile(loss=\"sparse_categorical_crossentropy\",optimizer=\"sgd\",metrics=[\"accuracy\"])"
      ],
      "execution_count": 9,
      "outputs": []
    },
    {
      "cell_type": "code",
      "metadata": {
        "id": "naW_T5HZTxX-",
        "colab_type": "code",
        "colab": {
          "base_uri": "https://localhost:8080/",
          "height": 1000
        },
        "outputId": "e77fe0a2-fc5a-4bde-e3bf-6c96c97c1029"
      },
      "source": [
        "#Treinando e Avaliando o modeloo\n",
        "history = modelo.fit(X_train,y_train,epochs=30,validation_data=(X_valid,y_valid))"
      ],
      "execution_count": 10,
      "outputs": [
        {
          "output_type": "stream",
          "text": [
            "Epoch 1/30\n",
            "1719/1719 [==============================] - 5s 3ms/step - loss: 0.7169 - accuracy: 0.7683 - val_loss: 0.5314 - val_accuracy: 0.8208\n",
            "Epoch 2/30\n",
            "1719/1719 [==============================] - 5s 3ms/step - loss: 0.4888 - accuracy: 0.8302 - val_loss: 0.4492 - val_accuracy: 0.8480\n",
            "Epoch 3/30\n",
            "1719/1719 [==============================] - 5s 3ms/step - loss: 0.4438 - accuracy: 0.8437 - val_loss: 0.4908 - val_accuracy: 0.8262\n",
            "Epoch 4/30\n",
            "1719/1719 [==============================] - 5s 3ms/step - loss: 0.4137 - accuracy: 0.8542 - val_loss: 0.4012 - val_accuracy: 0.8654\n",
            "Epoch 5/30\n",
            "1719/1719 [==============================] - 5s 3ms/step - loss: 0.3937 - accuracy: 0.8618 - val_loss: 0.3786 - val_accuracy: 0.8688\n",
            "Epoch 6/30\n",
            "1719/1719 [==============================] - 5s 3ms/step - loss: 0.3786 - accuracy: 0.8651 - val_loss: 0.3731 - val_accuracy: 0.8652\n",
            "Epoch 7/30\n",
            "1719/1719 [==============================] - 5s 3ms/step - loss: 0.3641 - accuracy: 0.8704 - val_loss: 0.3790 - val_accuracy: 0.8656\n",
            "Epoch 8/30\n",
            "1719/1719 [==============================] - 5s 3ms/step - loss: 0.3516 - accuracy: 0.8739 - val_loss: 0.3603 - val_accuracy: 0.8736\n",
            "Epoch 9/30\n",
            "1719/1719 [==============================] - 5s 3ms/step - loss: 0.3404 - accuracy: 0.8777 - val_loss: 0.3505 - val_accuracy: 0.8756\n",
            "Epoch 10/30\n",
            "1719/1719 [==============================] - 5s 3ms/step - loss: 0.3321 - accuracy: 0.8808 - val_loss: 0.3420 - val_accuracy: 0.8786\n",
            "Epoch 11/30\n",
            "1719/1719 [==============================] - 5s 3ms/step - loss: 0.3248 - accuracy: 0.8832 - val_loss: 0.3357 - val_accuracy: 0.8796\n",
            "Epoch 12/30\n",
            "1719/1719 [==============================] - 5s 3ms/step - loss: 0.3150 - accuracy: 0.8861 - val_loss: 0.3366 - val_accuracy: 0.8770\n",
            "Epoch 13/30\n",
            "1719/1719 [==============================] - 5s 3ms/step - loss: 0.3092 - accuracy: 0.8889 - val_loss: 0.3265 - val_accuracy: 0.8828\n",
            "Epoch 14/30\n",
            "1719/1719 [==============================] - 5s 3ms/step - loss: 0.3019 - accuracy: 0.8920 - val_loss: 0.3372 - val_accuracy: 0.8804\n",
            "Epoch 15/30\n",
            "1719/1719 [==============================] - 5s 3ms/step - loss: 0.2956 - accuracy: 0.8942 - val_loss: 0.3525 - val_accuracy: 0.8682\n",
            "Epoch 16/30\n",
            "1719/1719 [==============================] - 5s 3ms/step - loss: 0.2886 - accuracy: 0.8951 - val_loss: 0.3157 - val_accuracy: 0.8880\n",
            "Epoch 17/30\n",
            "1719/1719 [==============================] - 5s 3ms/step - loss: 0.2846 - accuracy: 0.8963 - val_loss: 0.3129 - val_accuracy: 0.8880\n",
            "Epoch 18/30\n",
            "1719/1719 [==============================] - 5s 3ms/step - loss: 0.2791 - accuracy: 0.9000 - val_loss: 0.3258 - val_accuracy: 0.8844\n",
            "Epoch 19/30\n",
            "1719/1719 [==============================] - 5s 3ms/step - loss: 0.2734 - accuracy: 0.9013 - val_loss: 0.3034 - val_accuracy: 0.8936\n",
            "Epoch 20/30\n",
            "1719/1719 [==============================] - 5s 3ms/step - loss: 0.2704 - accuracy: 0.9028 - val_loss: 0.3077 - val_accuracy: 0.8908\n",
            "Epoch 21/30\n",
            "1719/1719 [==============================] - 5s 3ms/step - loss: 0.2640 - accuracy: 0.9037 - val_loss: 0.3162 - val_accuracy: 0.8860\n",
            "Epoch 22/30\n",
            "1719/1719 [==============================] - 5s 3ms/step - loss: 0.2586 - accuracy: 0.9065 - val_loss: 0.3126 - val_accuracy: 0.8838\n",
            "Epoch 23/30\n",
            "1719/1719 [==============================] - 5s 3ms/step - loss: 0.2550 - accuracy: 0.9069 - val_loss: 0.3085 - val_accuracy: 0.8898\n",
            "Epoch 24/30\n",
            "1719/1719 [==============================] - 5s 3ms/step - loss: 0.2496 - accuracy: 0.9102 - val_loss: 0.3016 - val_accuracy: 0.8910\n",
            "Epoch 25/30\n",
            "1719/1719 [==============================] - 5s 3ms/step - loss: 0.2466 - accuracy: 0.9094 - val_loss: 0.3073 - val_accuracy: 0.8892\n",
            "Epoch 26/30\n",
            "1719/1719 [==============================] - 5s 3ms/step - loss: 0.2430 - accuracy: 0.9123 - val_loss: 0.3012 - val_accuracy: 0.8930\n",
            "Epoch 27/30\n",
            "1719/1719 [==============================] - 5s 3ms/step - loss: 0.2391 - accuracy: 0.9143 - val_loss: 0.2916 - val_accuracy: 0.8986\n",
            "Epoch 28/30\n",
            "1719/1719 [==============================] - 5s 3ms/step - loss: 0.2348 - accuracy: 0.9152 - val_loss: 0.3039 - val_accuracy: 0.8910\n",
            "Epoch 29/30\n",
            "1719/1719 [==============================] - 5s 3ms/step - loss: 0.2308 - accuracy: 0.9165 - val_loss: 0.2919 - val_accuracy: 0.8950\n",
            "Epoch 30/30\n",
            "1719/1719 [==============================] - 5s 3ms/step - loss: 0.2271 - accuracy: 0.9173 - val_loss: 0.2917 - val_accuracy: 0.8956\n"
          ],
          "name": "stdout"
        }
      ]
    },
    {
      "cell_type": "code",
      "metadata": {
        "id": "d-6YSImjbbOp",
        "colab_type": "code",
        "colab": {}
      },
      "source": [
        ""
      ],
      "execution_count": 13,
      "outputs": []
    },
    {
      "cell_type": "code",
      "metadata": {
        "id": "Qkz0noEMgVsE",
        "colab_type": "code",
        "colab": {
          "base_uri": "https://localhost:8080/",
          "height": 51
        },
        "outputId": "9aefaf7c-75ed-4343-9915-a5166c3f9479"
      },
      "source": [
        "modelo.evaluate(X_teste,y_teste)"
      ],
      "execution_count": 14,
      "outputs": [
        {
          "output_type": "stream",
          "text": [
            "313/313 [==============================] - 1s 2ms/step - loss: 68.8116 - accuracy: 0.8445\n"
          ],
          "name": "stdout"
        },
        {
          "output_type": "execute_result",
          "data": {
            "text/plain": [
              "[68.81163024902344, 0.8445000052452087]"
            ]
          },
          "metadata": {
            "tags": []
          },
          "execution_count": 14
        }
      ]
    },
    {
      "cell_type": "code",
      "metadata": {
        "id": "6hvM78QVhnLd",
        "colab_type": "code",
        "colab": {
          "base_uri": "https://localhost:8080/",
          "height": 187
        },
        "outputId": "96e47948-7c7d-4475-bc20-2d4d73b5d18c"
      },
      "source": [
        "#Fazendo predições\n",
        "X_new= X_teste[:10]\n",
        "y_proba = modelo.predict(X_new)\n",
        "y_proba.round(2)"
      ],
      "execution_count": 16,
      "outputs": [
        {
          "output_type": "execute_result",
          "data": {
            "text/plain": [
              "array([[0., 0., 0., 0., 0., 0., 0., 0., 0., 1.],\n",
              "       [0., 0., 1., 0., 0., 0., 0., 0., 0., 0.],\n",
              "       [0., 1., 0., 0., 0., 0., 0., 0., 0., 0.],\n",
              "       [0., 1., 0., 0., 0., 0., 0., 0., 0., 0.],\n",
              "       [0., 0., 0., 0., 0., 0., 1., 0., 0., 0.],\n",
              "       [0., 1., 0., 0., 0., 0., 0., 0., 0., 0.],\n",
              "       [0., 0., 0., 0., 1., 0., 0., 0., 0., 0.],\n",
              "       [0., 0., 0., 0., 0., 0., 1., 0., 0., 0.],\n",
              "       [0., 0., 0., 0., 0., 1., 0., 0., 0., 0.],\n",
              "       [0., 0., 0., 0., 0., 0., 0., 1., 0., 0.]], dtype=float32)"
            ]
          },
          "metadata": {
            "tags": []
          },
          "execution_count": 16
        }
      ]
    },
    {
      "cell_type": "code",
      "metadata": {
        "id": "6eIjYefBlI_q",
        "colab_type": "code",
        "colab": {
          "base_uri": "https://localhost:8080/",
          "height": 105
        },
        "outputId": "1a186087-732b-4c21-fbd2-cc4825900e4e"
      },
      "source": [
        "#Fazendo as predições Parte 2\n",
        "y_pred = modelo.predict_classes(X_new)\n",
        "y_pred"
      ],
      "execution_count": 17,
      "outputs": [
        {
          "output_type": "stream",
          "text": [
            "WARNING:tensorflow:From <ipython-input-17-08fd1d556892>:2: Sequential.predict_classes (from tensorflow.python.keras.engine.sequential) is deprecated and will be removed after 2021-01-01.\n",
            "Instructions for updating:\n",
            "Please use instead:* `np.argmax(model.predict(x), axis=-1)`,   if your model does multi-class classification   (e.g. if it uses a `softmax` last-layer activation).* `(model.predict(x) > 0.5).astype(\"int32\")`,   if your model does binary classification   (e.g. if it uses a `sigmoid` last-layer activation).\n"
          ],
          "name": "stdout"
        },
        {
          "output_type": "execute_result",
          "data": {
            "text/plain": [
              "array([9, 2, 1, 1, 6, 1, 4, 6, 5, 7])"
            ]
          },
          "metadata": {
            "tags": []
          },
          "execution_count": 17
        }
      ]
    },
    {
      "cell_type": "code",
      "metadata": {
        "id": "mNnF3CE3mSY2",
        "colab_type": "code",
        "colab": {
          "base_uri": "https://localhost:8080/",
          "height": 51
        },
        "outputId": "58e8e8c0-4201-4478-e403-049b00855d49"
      },
      "source": [
        "#Fazendo as prediçoes Parte 3\n",
        "import numpy as np\n",
        "np.array(n_classes)[y_pred]"
      ],
      "execution_count": 18,
      "outputs": [
        {
          "output_type": "execute_result",
          "data": {
            "text/plain": [
              "array(['bota', 'casaquinho', 'calça', 'calça', 'camisa', 'calça',\n",
              "       'casaco', 'camisa', 'sandalia', 'tenis'], dtype='<U10')"
            ]
          },
          "metadata": {
            "tags": []
          },
          "execution_count": 18
        }
      ]
    },
    {
      "cell_type": "code",
      "metadata": {
        "id": "OdH7_FXxnZoC",
        "colab_type": "code",
        "colab": {
          "base_uri": "https://localhost:8080/",
          "height": 34
        },
        "outputId": "728badcd-471f-464e-91cf-db2ac8261ca2"
      },
      "source": [
        "#Predições parte 4\n",
        "#Predição de todos os dados\n",
        "y_pred2 = modelo.predict_classes(X_teste)\n",
        "y_pred2"
      ],
      "execution_count": 19,
      "outputs": [
        {
          "output_type": "execute_result",
          "data": {
            "text/plain": [
              "array([9, 2, 1, ..., 8, 1, 5])"
            ]
          },
          "metadata": {
            "tags": []
          },
          "execution_count": 19
        }
      ]
    }
  ]
}